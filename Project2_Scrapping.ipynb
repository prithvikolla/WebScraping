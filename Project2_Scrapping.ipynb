{
  "nbformat": 4,
  "nbformat_minor": 0,
  "metadata": {
    "colab": {
      "name": "Project2_Scrapping.ipynb",
      "provenance": [],
      "collapsed_sections": []
    },
    "kernelspec": {
      "name": "python3",
      "display_name": "Python 3"
    }
  },
  "cells": [
    {
      "cell_type": "code",
      "metadata": {
        "id": "s7KJWsq30u5X"
      },
      "source": [
        "#https://www.boxofficemojo.com/chart/top_lifetime_gross/?area=XWW\n",
        "#https://www.imdb.com/chart/top"
      ],
      "execution_count": 1,
      "outputs": []
    },
    {
      "cell_type": "code",
      "metadata": {
        "id": "0rhlhWIe1caV",
        "outputId": "4f39a8de-6141-4f82-9a80-01b6568809f2",
        "colab": {
          "base_uri": "https://localhost:8080/",
          "height": 34
        }
      },
      "source": [
        "!pip install beautifulsoup4"
      ],
      "execution_count": 2,
      "outputs": [
        {
          "output_type": "stream",
          "text": [
            "Requirement already satisfied: beautifulsoup4 in /usr/local/lib/python3.6/dist-packages (4.6.3)\n"
          ],
          "name": "stdout"
        }
      ]
    },
    {
      "cell_type": "code",
      "metadata": {
        "id": "JangldGO1GLU"
      },
      "source": [
        "import requests\n",
        "import pandas as pd\n",
        "from bs4 import BeautifulSoup\n",
        "ID_Top = [ ]\n",
        "Title_Top = [ ]\n",
        "LTG_Top = [ ]\n",
        "Year_Top = [ ]\n",
        "i = [0,200,400,600,800]\n",
        "for j in i:\n",
        " page = requests.get('https://www.boxofficemojo.com/chart/top_lifetime_gross/?area=XWW&offset='+ str (j))\n",
        " soup = BeautifulSoup(page.content,'html.parser')\n",
        " ID = soup.find_all('td',class_ = 'a-text-right mojo-header-column mojo-truncate mojo-field-type-rank')\n",
        " Title = soup.find_all('td', class_ = 'a-text-left mojo-field-type-title')\n",
        " LTG = soup.find_all('td', class_ = 'a-text-right mojo-field-type-money')\n",
        " Year = soup.find_all('td', class_ = 'a-text-left mojo-field-type-year')\n",
        " for i in ID:\n",
        "   ID_Top.append(i.text)\n",
        " for i in Title:\n",
        "   Title_Top.append(i.text)\n",
        " for i in LTG:\n",
        "   LTG_Top.append(i.text)\n",
        " for i in Year:\n",
        "   Year_Top.append(i.text)"
      ],
      "execution_count": 26,
      "outputs": []
    },
    {
      "cell_type": "code",
      "metadata": {
        "id": "IIFCuoUt1iPI"
      },
      "source": [
        "df_Top_Movies_1000 = pd.DataFrame({'ID': ID_Top,'Title': Title_Top,'Life_Time_Gross': LTG_Top,'Year': Year_Top})"
      ],
      "execution_count": 27,
      "outputs": []
    },
    {
      "cell_type": "code",
      "metadata": {
        "id": "uaJPDODpJUBZ",
        "outputId": "7fa07700-6007-461b-a266-7c03cc0ea8cb",
        "colab": {
          "base_uri": "https://localhost:8080/",
          "height": 204
        }
      },
      "source": [
        "df_Top_Movies_1000.head()"
      ],
      "execution_count": 28,
      "outputs": [
        {
          "output_type": "execute_result",
          "data": {
            "text/html": [
              "<div>\n",
              "<style scoped>\n",
              "    .dataframe tbody tr th:only-of-type {\n",
              "        vertical-align: middle;\n",
              "    }\n",
              "\n",
              "    .dataframe tbody tr th {\n",
              "        vertical-align: top;\n",
              "    }\n",
              "\n",
              "    .dataframe thead th {\n",
              "        text-align: right;\n",
              "    }\n",
              "</style>\n",
              "<table border=\"1\" class=\"dataframe\">\n",
              "  <thead>\n",
              "    <tr style=\"text-align: right;\">\n",
              "      <th></th>\n",
              "      <th>ID</th>\n",
              "      <th>Title</th>\n",
              "      <th>Life_Time_Gross</th>\n",
              "      <th>Year</th>\n",
              "    </tr>\n",
              "  </thead>\n",
              "  <tbody>\n",
              "    <tr>\n",
              "      <th>0</th>\n",
              "      <td>1</td>\n",
              "      <td>Avengers: Endgame</td>\n",
              "      <td>$2,797,800,564</td>\n",
              "      <td>2019</td>\n",
              "    </tr>\n",
              "    <tr>\n",
              "      <th>1</th>\n",
              "      <td>2</td>\n",
              "      <td>Avatar</td>\n",
              "      <td>$2,790,439,092</td>\n",
              "      <td>2009</td>\n",
              "    </tr>\n",
              "    <tr>\n",
              "      <th>2</th>\n",
              "      <td>3</td>\n",
              "      <td>Titanic</td>\n",
              "      <td>$2,195,170,133</td>\n",
              "      <td>1997</td>\n",
              "    </tr>\n",
              "    <tr>\n",
              "      <th>3</th>\n",
              "      <td>4</td>\n",
              "      <td>Star Wars: Episode VII - The Force Awakens</td>\n",
              "      <td>$2,068,455,512</td>\n",
              "      <td>2015</td>\n",
              "    </tr>\n",
              "    <tr>\n",
              "      <th>4</th>\n",
              "      <td>5</td>\n",
              "      <td>Avengers: Infinity War</td>\n",
              "      <td>$2,048,359,754</td>\n",
              "      <td>2018</td>\n",
              "    </tr>\n",
              "  </tbody>\n",
              "</table>\n",
              "</div>"
            ],
            "text/plain": [
              "  ID                                       Title Life_Time_Gross  Year\n",
              "0  1                           Avengers: Endgame  $2,797,800,564  2019\n",
              "1  2                                      Avatar  $2,790,439,092  2009\n",
              "2  3                                     Titanic  $2,195,170,133  1997\n",
              "3  4  Star Wars: Episode VII - The Force Awakens  $2,068,455,512  2015\n",
              "4  5                      Avengers: Infinity War  $2,048,359,754  2018"
            ]
          },
          "metadata": {
            "tags": []
          },
          "execution_count": 28
        }
      ]
    },
    {
      "cell_type": "code",
      "metadata": {
        "id": "oFEn72gbJgCX"
      },
      "source": [
        "df_Top_Movies_1000.to_excel('Top_1000_Movies_Data.xlsx',index= False)"
      ],
      "execution_count": 29,
      "outputs": []
    },
    {
      "cell_type": "code",
      "metadata": {
        "id": "SFwl-u_JKAcd"
      },
      "source": [
        "Title_Top = [ ]\n",
        "Rating_Top = [ ]\n",
        "Year_Top = [ ]\n",
        "page1 = requests.get('https://www.imdb.com/chart/top')\n",
        "soup = BeautifulSoup(page1.content,'html.parser')\n",
        "Title = soup.find_all('td',class_='titleColumn')\n",
        "Year = soup.find_all('span',class_ = 'secondaryInfo')\n",
        "Rating = soup.find_all('td',class_='ratingColumn imdbRating')\n",
        "for i in Title:\n",
        "  Title_Top.append(i.text)\n",
        "for i in Year:\n",
        "  Year_Top.append(i.text)\n",
        "for i in Rating:\n",
        "  Rating_Top.append(i.text)"
      ],
      "execution_count": 35,
      "outputs": []
    },
    {
      "cell_type": "code",
      "metadata": {
        "id": "J9lFUG6QOEbI"
      },
      "source": [
        "df_Top_250_Movies = pd.DataFrame({'Title':Title_Top,'Year':Year_Top,'IMDB_Rating':Rating_Top})"
      ],
      "execution_count": 36,
      "outputs": []
    },
    {
      "cell_type": "code",
      "metadata": {
        "id": "uSzCgM90OXWt"
      },
      "source": [
        "df_Top_250_Movies.to_excel('Top_250_Movies_IMDB_R_Data.xlsx')"
      ],
      "execution_count": 37,
      "outputs": []
    },
    {
      "cell_type": "code",
      "metadata": {
        "id": "xwp2hiUtOY-e"
      },
      "source": [
        ""
      ],
      "execution_count": null,
      "outputs": []
    }
  ]
}