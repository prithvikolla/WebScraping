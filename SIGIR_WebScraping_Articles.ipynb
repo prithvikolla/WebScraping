{
  "nbformat": 4,
  "nbformat_minor": 0,
  "metadata": {
    "colab": {
      "name": "SIGIR_WebScraping_Articles.ipynb",
      "provenance": [],
      "collapsed_sections": []
    },
    "kernelspec": {
      "name": "python3",
      "display_name": "Python 3"
    },
    "accelerator": "GPU"
  },
  "cells": [
    {
      "cell_type": "code",
      "metadata": {
        "id": "LaZuYrTXgNRM",
        "colab_type": "code",
        "colab": {}
      },
      "source": [
        "import pandas as pd\n",
        "import requests\n",
        "from bs4 import BeautifulSoup\n",
        "ArticleName = []\n",
        "Date = []\n",
        "TitleName = []\n",
        "for i in range(0,98):\n",
        " page = requests.get('https://dl.acm.org/action/doSearch?ConceptID=121219&startPage='+str(i)+'&pageSize=50')\n",
        " soup = BeautifulSoup(page.content,'html.parser')\n",
        " for Tree in soup.find_all('li',class_=\"search__item issue-item-container\"):\n",
        "   TreeHead.append(Tree)\n",
        "for item in TreeHead:\n",
        "    if (item.find('div',class_=\"issue-heading\").get_text() == 'ARTICLE'):\n",
        "      for span in item.find_all('div',class_=\"issue-item__detail\"):\n",
        "             for Article in span.find_all('a', class_=\"issue-item__doi dot-separator\"):\n",
        "                ArticleName.append(Article.get_text())\n",
        "             for Title in span.find_all('span',class_=\"epub-section__title\"):\n",
        "                TitleName.append(Title.get_text())\n",
        "      for span in item.find_all('span',class_=\"dot-separator\"):\n",
        "              for Da in span.find_all('span'):\n",
        "                Date.append(Da.get_text())\n",
        "df = pd.DataFrame({'ArticleLink': ArticleName,'Title':TitleName})\n",
        "df1 = pd.DataFrame({'Date':Date})\n",
        "df.to_csv(\"notCleanArticles.csv\")\n",
        "df1.to_csv(\"notCleanDates.csv\") \n"
      ],
      "execution_count": 0,
      "outputs": []
    },
    {
      "cell_type": "code",
      "metadata": {
        "id": "9TIwBHp9tMuV",
        "colab_type": "code",
        "colab": {}
      },
      "source": [
        ""
      ],
      "execution_count": 0,
      "outputs": []
    }
  ]
}