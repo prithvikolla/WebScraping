{
  "nbformat": 4,
  "nbformat_minor": 0,
  "metadata": {
    "colab": {
      "name": "SIGIR_WebScraping_Articles.ipynb",
      "provenance": [],
      "collapsed_sections": []
    },
    "kernelspec": {
      "name": "python3",
      "display_name": "Python 3"
    },
    "accelerator": "GPU"
  },
  "cells": [
    {
      "cell_type": "code",
      "metadata": {
        "id": "LaZuYrTXgNRM",
        "colab_type": "code",
        "colab": {}
      },
      "source": [
        "# import pandas as pd\n",
        "# import requests\n",
        "# from bs4 import BeautifulSoup\n",
        "# ArticleName = []\n",
        "# Date = []\n",
        "# TitleName = []\n",
        "# for i in range(0,98):\n",
        "#  page = requests.get('https://dl.acm.org/action/doSearch?ConceptID=121219&startPage='+str(i)+'&pageSize=50')\n",
        "#  soup = BeautifulSoup(page.content,'html.parser')\n",
        "#  for Tree in soup.find_all('li',class_=\"search__item issue-item-container\"):\n",
        "#    TreeHead.append(Tree)\n",
        "# for item in TreeHead:\n",
        "#     if (item.find('div',class_=\"issue-heading\").get_text() == 'ARTICLE'):\n",
        "#       for span in item.find_all('div',class_=\"issue-item__detail\"):\n",
        "#              for Article in span.find_all('a', class_=\"issue-item__doi dot-separator\"):\n",
        "#                 ArticleName.append(Article.get_text())\n",
        "#              for Title in span.find_all('span',class_=\"epub-section__title\"):\n",
        "#                 TitleName.append(Title.get_text())\n",
        "#       for span in item.find_all('span',class_=\"dot-separator\"):\n",
        "#               for Da in span.find_all('span'):\n",
        "#                 Date.append(Da.get_text())\n",
        "# df = pd.DataFrame({'ArticleLink': ArticleName,'Title':TitleName})\n",
        "# df1 = pd.DataFrame({'Date':Date})\n",
        "# df.to_csv(\"notCleanArticles.csv\")\n",
        "# df1.to_csv(\"notCleanDates.csv\") \n"
      ],
      "execution_count": 1,
      "outputs": []
    },
    {
      "cell_type": "code",
      "metadata": {
        "id": "2EQaoK7Ozap4",
        "colab_type": "code",
        "colab": {
          "base_uri": "https://localhost:8080/",
          "height": 802
        },
        "outputId": "a0a3e448-50cf-4744-f238-bdc256aebdbf"
      },
      "source": [
        "!pip install scholarly"
      ],
      "execution_count": 3,
      "outputs": [
        {
          "output_type": "stream",
          "text": [
            "Collecting scholarly\n",
            "  Downloading https://files.pythonhosted.org/packages/c8/72/486716bee1aa2e523fa85608338c268a86b26fd2397205fb7d38e18768be/scholarly-0.4.2-py3-none-any.whl\n",
            "Collecting free-proxy\n",
            "  Downloading https://files.pythonhosted.org/packages/04/e0/73bc201cfabca899daa033aeeeed37d30412fbd6c4877585a406f3a0fa99/free_proxy-1.0.2-py3-none-any.whl\n",
            "Requirement already satisfied: requests[socks] in /usr/local/lib/python3.6/dist-packages (from scholarly) (2.23.0)\n",
            "Collecting stem\n",
            "\u001b[?25l  Downloading https://files.pythonhosted.org/packages/71/bd/ab05ffcbfe74dca704e860312e00c53ef690b1ddcb23be7a4d9ea4f40260/stem-1.8.0.tar.gz (2.9MB)\n",
            "\u001b[K     |████████████████████████████████| 2.9MB 4.6MB/s \n",
            "\u001b[?25hCollecting fake-useragent\n",
            "  Downloading https://files.pythonhosted.org/packages/d1/79/af647635d6968e2deb57a208d309f6069d31cb138066d7e821e575112a80/fake-useragent-0.1.11.tar.gz\n",
            "Collecting selenium\n",
            "\u001b[?25l  Downloading https://files.pythonhosted.org/packages/80/d6/4294f0b4bce4de0abf13e17190289f9d0613b0a44e5dd6a7f5ca98459853/selenium-3.141.0-py2.py3-none-any.whl (904kB)\n",
            "\u001b[K     |████████████████████████████████| 911kB 29.6MB/s \n",
            "\u001b[?25hRequirement already satisfied: PySocks in /usr/local/lib/python3.6/dist-packages (from scholarly) (1.7.1)\n",
            "Collecting arrow\n",
            "\u001b[?25l  Downloading https://files.pythonhosted.org/packages/ed/d2/aa994f2d8dd442113c753041761dc0732a35def05538de48f61adb28642a/arrow-0.16.0-py2.py3-none-any.whl (50kB)\n",
            "\u001b[K     |████████████████████████████████| 51kB 8.4MB/s \n",
            "\u001b[?25hRequirement already satisfied: beautifulsoup4 in /usr/local/lib/python3.6/dist-packages (from scholarly) (4.6.3)\n",
            "Collecting python-dotenv\n",
            "  Downloading https://files.pythonhosted.org/packages/f2/16/28d434b28c5be29a6af8fd0e3a2bda3bd30500ef0cd17bc79f7a6793a8d4/python_dotenv-0.14.0-py2.py3-none-any.whl\n",
            "Collecting bibtexparser\n",
            "\u001b[?25l  Downloading https://files.pythonhosted.org/packages/7c/c3/c184a4460ba2f4877e3389e2d63479f642d0d3bdffeeffee0723d3b0156d/bibtexparser-1.2.0.tar.gz (46kB)\n",
            "\u001b[K     |████████████████████████████████| 51kB 7.0MB/s \n",
            "\u001b[?25hRequirement already satisfied: lxml in /usr/local/lib/python3.6/dist-packages (from free-proxy->scholarly) (4.2.6)\n",
            "Requirement already satisfied: chardet<4,>=3.0.2 in /usr/local/lib/python3.6/dist-packages (from requests[socks]->scholarly) (3.0.4)\n",
            "Requirement already satisfied: idna<3,>=2.5 in /usr/local/lib/python3.6/dist-packages (from requests[socks]->scholarly) (2.10)\n",
            "Requirement already satisfied: certifi>=2017.4.17 in /usr/local/lib/python3.6/dist-packages (from requests[socks]->scholarly) (2020.6.20)\n",
            "Requirement already satisfied: urllib3!=1.25.0,!=1.25.1,<1.26,>=1.21.1 in /usr/local/lib/python3.6/dist-packages (from requests[socks]->scholarly) (1.24.3)\n",
            "Requirement already satisfied: python-dateutil>=2.7.0 in /usr/local/lib/python3.6/dist-packages (from arrow->scholarly) (2.8.1)\n",
            "Requirement already satisfied: pyparsing>=2.0.3 in /usr/local/lib/python3.6/dist-packages (from bibtexparser->scholarly) (2.4.7)\n",
            "Requirement already satisfied: future>=0.16.0 in /usr/local/lib/python3.6/dist-packages (from bibtexparser->scholarly) (0.16.0)\n",
            "Requirement already satisfied: six>=1.5 in /usr/local/lib/python3.6/dist-packages (from python-dateutil>=2.7.0->arrow->scholarly) (1.15.0)\n",
            "Building wheels for collected packages: stem, fake-useragent, bibtexparser\n",
            "  Building wheel for stem (setup.py) ... \u001b[?25l\u001b[?25hdone\n",
            "  Created wheel for stem: filename=stem-1.8.0-cp36-none-any.whl size=436039 sha256=293e03188044834ba9da38124c8027753c40f76d89708898a535cf9d2222acec\n",
            "  Stored in directory: /root/.cache/pip/wheels/02/3a/ee/1094b166e029353f892c0b121aa02f48aff5e658396924bc2a\n",
            "  Building wheel for fake-useragent (setup.py) ... \u001b[?25l\u001b[?25hdone\n",
            "  Created wheel for fake-useragent: filename=fake_useragent-0.1.11-cp36-none-any.whl size=13485 sha256=94ca38d3b29d1bc2f43157bbda5403de3607faf75429cfa7646f3c08dea27322\n",
            "  Stored in directory: /root/.cache/pip/wheels/5e/63/09/d1dc15179f175357d3f5c00cbffbac37f9e8690d80545143ff\n",
            "  Building wheel for bibtexparser (setup.py) ... \u001b[?25l\u001b[?25hdone\n",
            "  Created wheel for bibtexparser: filename=bibtexparser-1.2.0-cp36-none-any.whl size=36713 sha256=a6547a3c48e749726cf9af5075905fb336c04806ea3fb74615fdfdcc3a31fb29\n",
            "  Stored in directory: /root/.cache/pip/wheels/b2/5a/e7/867bcbc3a81c15b675b931aa19b6698375c5a5e90419a366db\n",
            "Successfully built stem fake-useragent bibtexparser\n",
            "Installing collected packages: free-proxy, stem, fake-useragent, selenium, arrow, python-dotenv, bibtexparser, scholarly\n",
            "Successfully installed arrow-0.16.0 bibtexparser-1.2.0 fake-useragent-0.1.11 free-proxy-1.0.2 python-dotenv-0.14.0 scholarly-0.4.2 selenium-3.141.0 stem-1.8.0\n"
          ],
          "name": "stdout"
        }
      ]
    },
    {
      "cell_type": "code",
      "metadata": {
        "id": "9TIwBHp9tMuV",
        "colab_type": "code",
        "colab": {
          "base_uri": "https://localhost:8080/",
          "height": 1000
        },
        "outputId": "ed8f8084-e900-41ba-d945-e5f373daa973"
      },
      "source": [
        "help(scholarly.author)\n",
        "import scholarly"
      ],
      "execution_count": 13,
      "outputs": [
        {
          "output_type": "stream",
          "text": [
            "Help on module scholarly.author in scholarly:\n",
            "\n",
            "NAME\n",
            "    scholarly.author\n",
            "\n",
            "CLASSES\n",
            "    builtins.object\n",
            "        Author\n",
            "    \n",
            "    class Author(builtins.object)\n",
            "     |  Returns an object for a single author\n",
            "     |  \n",
            "     |  Methods defined here:\n",
            "     |  \n",
            "     |  __init__(self, nav, _Author__data)\n",
            "     |      Initialize self.  See help(type(self)) for accurate signature.\n",
            "     |  \n",
            "     |  __repr__(self)\n",
            "     |      Return repr(self).\n",
            "     |  \n",
            "     |  __str__(self)\n",
            "     |      Return str(self).\n",
            "     |  \n",
            "     |  fill(self, sections:list=[])\n",
            "     |      Populate the Author with information from their profile\n",
            "     |      \n",
            "     |      The `sections` argument allows for finer granularity of the profile\n",
            "     |      information to be pulled.\n",
            "     |      \n",
            "     |      :param sections: Sections of author profile to be filled, defaults to ``[]``.\n",
            "     |      \n",
            "     |          * ``basics``: fills name, affiliation, and interests;\n",
            "     |          * ``citations``: fills h-index, i10-index, and 5-year analogues;\n",
            "     |          * ``counts``: fills number of citations per year;\n",
            "     |          * ``coauthors``: fills co-authors;\n",
            "     |          * ``publications``: fills publications;\n",
            "     |          * ``[]``: fills all of the above\n",
            "     |      :type sections: ['basics','citations','counts','coauthors','publications',[]] list, optional\n",
            "     |      :returns: The filled object if fill was successfull, False otherwise.\n",
            "     |      :rtype: Author or bool\n",
            "     |      \n",
            "     |      :Example::\n",
            "     |      \n",
            "     |      .. testcode::\n",
            "     |      \n",
            "     |          search_query = scholarly.search_author('Steven A Cholewiak')\n",
            "     |          author = next(search_query)\n",
            "     |          print(author.fill(sections=['basic', 'citation_indices', 'co-authors']))\n",
            "     |      \n",
            "     |      :Output::\n",
            "     |      \n",
            "     |      .. testoutput::\n",
            "     |      \n",
            "     |          {'affiliation': 'Vision Scientist',\n",
            "     |           'citedby': 262,\n",
            "     |           'citedby5y': 186,\n",
            "     |           'coauthors': [{'affiliation': 'Kurt Koffka Professor of Experimental Psychology, University '\n",
            "     |                          'of Giessen',\n",
            "     |                          'filled': False,\n",
            "     |                          'id': 'ruUKktgAAAAJ',\n",
            "     |                          'name': 'Roland Fleming'},\n",
            "     |                         {'affiliation': 'Professor of Vision Science, UC Berkeley',\n",
            "     |                          'filled': False,\n",
            "     |                          'id': 'Smr99uEAAAAJ',\n",
            "     |                          'name': 'Martin Banks'},\n",
            "     |                         ...\n",
            "     |                         {'affiliation': 'Professor and Dean, School of Engineering, University of '\n",
            "     |                          'California, Merced',\n",
            "     |                          'filled': False,\n",
            "     |                          'id': 'r6MrFYoAAAAJ',\n",
            "     |                          'name': 'Edwin D. Hirleman Jr.'},\n",
            "     |                         {'affiliation': 'Vice President of Research, NVIDIA Corporation',\n",
            "     |                          'filled': False,\n",
            "     |                          'id': 'AE7Xvl0AAAAJ',\n",
            "     |                          'name': 'David Luebke'}],\n",
            "     |           'email': '@berkeley.edu',\n",
            "     |           'filled': False,\n",
            "     |           'hindex': 8,\n",
            "     |           'hindex5y': 8,\n",
            "     |           'i10index': 7,\n",
            "     |           'i10index5y': 7,\n",
            "     |           'id': '4bahYMkAAAAJ',\n",
            "     |           'interests': ['Depth Cues',\n",
            "     |                         '3D Shape',\n",
            "     |                         'Shape from Texture & Shading',\n",
            "     |                         'Naive Physics',\n",
            "     |                         'Haptics'],\n",
            "     |           'name': 'Steven A. Cholewiak, PhD',\n",
            "     |           'url_picture': 'https://scholar.google.com/citations?view_op=medium_photo&user=4bahYMkAAAAJ'}\n",
            "     |  \n",
            "     |  ----------------------------------------------------------------------\n",
            "     |  Data descriptors defined here:\n",
            "     |  \n",
            "     |  __dict__\n",
            "     |      dictionary for instance variables (if defined)\n",
            "     |  \n",
            "     |  __weakref__\n",
            "     |      list of weak references to the object (if defined)\n",
            "     |  \n",
            "     |  filled\n",
            "     |      Returns whether or not the author characteristics are filled\n",
            "     |      \n",
            "     |      :getter: True if Author object is filled, False otherwise\n",
            "     |      :type: bool\n",
            "\n",
            "FILE\n",
            "    /usr/local/lib/python3.6/dist-packages/scholarly/author.py\n",
            "\n",
            "\n"
          ],
          "name": "stdout"
        }
      ]
    },
    {
      "cell_type": "code",
      "metadata": {
        "id": "cHmYEDDHzXie",
        "colab_type": "code",
        "colab": {
          "base_uri": "https://localhost:8080/",
          "height": 181
        },
        "outputId": "888cc539-ad30-461f-9f52-f9fbb606a1a7"
      },
      "source": [
        "search_query = scholarly.search_author('Srinivas Rao PrithviNag Kolla')\n",
        "author = next(search_query)"
      ],
      "execution_count": 16,
      "outputs": [
        {
          "output_type": "error",
          "ename": "AttributeError",
          "evalue": "ignored",
          "traceback": [
            "\u001b[0;31m---------------------------------------------------------------------------\u001b[0m",
            "\u001b[0;31mAttributeError\u001b[0m                            Traceback (most recent call last)",
            "\u001b[0;32m<ipython-input-16-282da0753759>\u001b[0m in \u001b[0;36m<module>\u001b[0;34m()\u001b[0m\n\u001b[0;32m----> 1\u001b[0;31m \u001b[0msearch_query\u001b[0m \u001b[0;34m=\u001b[0m \u001b[0mscholarly\u001b[0m\u001b[0;34m.\u001b[0m\u001b[0msearch_author\u001b[0m\u001b[0;34m(\u001b[0m\u001b[0;34m'Srinivas Rao PrithviNag Kolla'\u001b[0m\u001b[0;34m)\u001b[0m\u001b[0;34m\u001b[0m\u001b[0;34m\u001b[0m\u001b[0m\n\u001b[0m\u001b[1;32m      2\u001b[0m \u001b[0mauthor\u001b[0m \u001b[0;34m=\u001b[0m \u001b[0mnext\u001b[0m\u001b[0;34m(\u001b[0m\u001b[0msearch_query\u001b[0m\u001b[0;34m)\u001b[0m\u001b[0;34m\u001b[0m\u001b[0;34m\u001b[0m\u001b[0m\n",
            "\u001b[0;31mAttributeError\u001b[0m: module 'scholarly' has no attribute 'search_author'"
          ]
        }
      ]
    },
    {
      "cell_type": "code",
      "metadata": {
        "id": "9gnYIa_ezpek",
        "colab_type": "code",
        "colab": {}
      },
      "source": [
        ""
      ],
      "execution_count": null,
      "outputs": []
    }
  ]
}