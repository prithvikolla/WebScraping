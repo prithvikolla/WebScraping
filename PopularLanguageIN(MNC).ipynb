{
  "nbformat": 4,
  "nbformat_minor": 0,
  "metadata": {
    "colab": {
      "name": "PopularLanguageIN(MNC).ipynb",
      "provenance": [],
      "collapsed_sections": [],
      "authorship_tag": "ABX9TyNUzZNBlpaeC2P6PtkJiEhQ",
      "include_colab_link": true
    },
    "kernelspec": {
      "name": "python3",
      "display_name": "Python 3"
    },
    "language_info": {
      "name": "python"
    }
  },
  "cells": [
    {
      "cell_type": "markdown",
      "metadata": {
        "id": "view-in-github",
        "colab_type": "text"
      },
      "source": [
        "<a href=\"https://colab.research.google.com/github/prithvikolla/WebScraping/blob/master/PopularLanguageIN(MNC).ipynb\" target=\"_parent\"><img src=\"https://colab.research.google.com/assets/colab-badge.svg\" alt=\"Open In Colab\"/></a>"
      ]
    },
    {
      "cell_type": "code",
      "execution_count": 1,
      "metadata": {
        "id": "KVx_utvAq9i8"
      },
      "outputs": [],
      "source": [
        "import pandas as pd"
      ]
    },
    {
      "cell_type": "code",
      "source": [
        "df = pd.read_csv(\"/content/Prog Languages Used in Popular Companies - Sheet1.csv\")"
      ],
      "metadata": {
        "id": "hdHi79M5suq8"
      },
      "execution_count": 2,
      "outputs": []
    },
    {
      "cell_type": "code",
      "source": [
        "df.head()"
      ],
      "metadata": {
        "colab": {
          "base_uri": "https://localhost:8080/",
          "height": 319
        },
        "id": "-EJxZVUxs9Gw",
        "outputId": "29f3e611-e43b-49a4-e1cc-82df71555d43"
      },
      "execution_count": 3,
      "outputs": [
        {
          "output_type": "execute_result",
          "data": {
            "text/html": [
              "\n",
              "  <div id=\"df-f3f2e46b-81d6-47f7-9c8d-ff705618a5e6\">\n",
              "    <div class=\"colab-df-container\">\n",
              "      <div>\n",
              "<style scoped>\n",
              "    .dataframe tbody tr th:only-of-type {\n",
              "        vertical-align: middle;\n",
              "    }\n",
              "\n",
              "    .dataframe tbody tr th {\n",
              "        vertical-align: top;\n",
              "    }\n",
              "\n",
              "    .dataframe thead th {\n",
              "        text-align: right;\n",
              "    }\n",
              "</style>\n",
              "<table border=\"1\" class=\"dataframe\">\n",
              "  <thead>\n",
              "    <tr style=\"text-align: right;\">\n",
              "      <th></th>\n",
              "      <th>Websites</th>\n",
              "      <th>Popularity</th>\n",
              "      <th>Front End ( Client Side)</th>\n",
              "      <th>Back End ( Server Side)</th>\n",
              "      <th>Database</th>\n",
              "      <th>Notes</th>\n",
              "    </tr>\n",
              "  </thead>\n",
              "  <tbody>\n",
              "    <tr>\n",
              "      <th>0</th>\n",
              "      <td>Google</td>\n",
              "      <td>1st</td>\n",
              "      <td>JavaSript, Typescript</td>\n",
              "      <td>C, C++, PHP, Go, java, Python, Node</td>\n",
              "      <td>BigTable, MariaDB</td>\n",
              "      <td>The Most used Search Engine in the World.</td>\n",
              "    </tr>\n",
              "    <tr>\n",
              "      <th>1</th>\n",
              "      <td>Facebook</td>\n",
              "      <td>2nd</td>\n",
              "      <td>JavaSript, Flow</td>\n",
              "      <td>Hack, PHP(HHVM), Python, C++, Java, Erlang, D,...</td>\n",
              "      <td>MariaDB, MySQL, HBase, Cassandra</td>\n",
              "      <td>The Most Visisted Social networking Site.</td>\n",
              "    </tr>\n",
              "    <tr>\n",
              "      <th>2</th>\n",
              "      <td>Youtube</td>\n",
              "      <td>3rd</td>\n",
              "      <td>JavaScript</td>\n",
              "      <td>C,C++, Python, PHP, java, Go</td>\n",
              "      <td>Vitess, BigTable, MariaDB</td>\n",
              "      <td>NaN</td>\n",
              "    </tr>\n",
              "    <tr>\n",
              "      <th>3</th>\n",
              "      <td>Yahoo</td>\n",
              "      <td>4th</td>\n",
              "      <td>JavaSript</td>\n",
              "      <td>PHP</td>\n",
              "      <td>PostgreSQL, HBase, Cassandra, MongoDB</td>\n",
              "      <td>NaN</td>\n",
              "    </tr>\n",
              "    <tr>\n",
              "      <th>4</th>\n",
              "      <td>Etsy</td>\n",
              "      <td>5th</td>\n",
              "      <td>JavaScript</td>\n",
              "      <td>PHP</td>\n",
              "      <td>MySQL, Redis</td>\n",
              "      <td>NaN</td>\n",
              "    </tr>\n",
              "  </tbody>\n",
              "</table>\n",
              "</div>\n",
              "      <button class=\"colab-df-convert\" onclick=\"convertToInteractive('df-f3f2e46b-81d6-47f7-9c8d-ff705618a5e6')\"\n",
              "              title=\"Convert this dataframe to an interactive table.\"\n",
              "              style=\"display:none;\">\n",
              "        \n",
              "  <svg xmlns=\"http://www.w3.org/2000/svg\" height=\"24px\"viewBox=\"0 0 24 24\"\n",
              "       width=\"24px\">\n",
              "    <path d=\"M0 0h24v24H0V0z\" fill=\"none\"/>\n",
              "    <path d=\"M18.56 5.44l.94 2.06.94-2.06 2.06-.94-2.06-.94-.94-2.06-.94 2.06-2.06.94zm-11 1L8.5 8.5l.94-2.06 2.06-.94-2.06-.94L8.5 2.5l-.94 2.06-2.06.94zm10 10l.94 2.06.94-2.06 2.06-.94-2.06-.94-.94-2.06-.94 2.06-2.06.94z\"/><path d=\"M17.41 7.96l-1.37-1.37c-.4-.4-.92-.59-1.43-.59-.52 0-1.04.2-1.43.59L10.3 9.45l-7.72 7.72c-.78.78-.78 2.05 0 2.83L4 21.41c.39.39.9.59 1.41.59.51 0 1.02-.2 1.41-.59l7.78-7.78 2.81-2.81c.8-.78.8-2.07 0-2.86zM5.41 20L4 18.59l7.72-7.72 1.47 1.35L5.41 20z\"/>\n",
              "  </svg>\n",
              "      </button>\n",
              "      \n",
              "  <style>\n",
              "    .colab-df-container {\n",
              "      display:flex;\n",
              "      flex-wrap:wrap;\n",
              "      gap: 12px;\n",
              "    }\n",
              "\n",
              "    .colab-df-convert {\n",
              "      background-color: #E8F0FE;\n",
              "      border: none;\n",
              "      border-radius: 50%;\n",
              "      cursor: pointer;\n",
              "      display: none;\n",
              "      fill: #1967D2;\n",
              "      height: 32px;\n",
              "      padding: 0 0 0 0;\n",
              "      width: 32px;\n",
              "    }\n",
              "\n",
              "    .colab-df-convert:hover {\n",
              "      background-color: #E2EBFA;\n",
              "      box-shadow: 0px 1px 2px rgba(60, 64, 67, 0.3), 0px 1px 3px 1px rgba(60, 64, 67, 0.15);\n",
              "      fill: #174EA6;\n",
              "    }\n",
              "\n",
              "    [theme=dark] .colab-df-convert {\n",
              "      background-color: #3B4455;\n",
              "      fill: #D2E3FC;\n",
              "    }\n",
              "\n",
              "    [theme=dark] .colab-df-convert:hover {\n",
              "      background-color: #434B5C;\n",
              "      box-shadow: 0px 1px 3px 1px rgba(0, 0, 0, 0.15);\n",
              "      filter: drop-shadow(0px 1px 2px rgba(0, 0, 0, 0.3));\n",
              "      fill: #FFFFFF;\n",
              "    }\n",
              "  </style>\n",
              "\n",
              "      <script>\n",
              "        const buttonEl =\n",
              "          document.querySelector('#df-f3f2e46b-81d6-47f7-9c8d-ff705618a5e6 button.colab-df-convert');\n",
              "        buttonEl.style.display =\n",
              "          google.colab.kernel.accessAllowed ? 'block' : 'none';\n",
              "\n",
              "        async function convertToInteractive(key) {\n",
              "          const element = document.querySelector('#df-f3f2e46b-81d6-47f7-9c8d-ff705618a5e6');\n",
              "          const dataTable =\n",
              "            await google.colab.kernel.invokeFunction('convertToInteractive',\n",
              "                                                     [key], {});\n",
              "          if (!dataTable) return;\n",
              "\n",
              "          const docLinkHtml = 'Like what you see? Visit the ' +\n",
              "            '<a target=\"_blank\" href=https://colab.research.google.com/notebooks/data_table.ipynb>data table notebook</a>'\n",
              "            + ' to learn more about interactive tables.';\n",
              "          element.innerHTML = '';\n",
              "          dataTable['output_type'] = 'display_data';\n",
              "          await google.colab.output.renderOutput(dataTable, element);\n",
              "          const docLink = document.createElement('div');\n",
              "          docLink.innerHTML = docLinkHtml;\n",
              "          element.appendChild(docLink);\n",
              "        }\n",
              "      </script>\n",
              "    </div>\n",
              "  </div>\n",
              "  "
            ],
            "text/plain": [
              "   Websites  ...                                      Notes\n",
              "0    Google  ...  The Most used Search Engine in the World.\n",
              "1  Facebook  ...  The Most Visisted Social networking Site.\n",
              "2   Youtube  ...                                        NaN\n",
              "3     Yahoo  ...                                        NaN\n",
              "4      Etsy  ...                                        NaN\n",
              "\n",
              "[5 rows x 6 columns]"
            ]
          },
          "metadata": {},
          "execution_count": 3
        }
      ]
    },
    {
      "cell_type": "code",
      "source": [
        "list_Back = df[\"Database\"]"
      ],
      "metadata": {
        "id": "lw3bInbMtBfz"
      },
      "execution_count": 4,
      "outputs": []
    },
    {
      "cell_type": "code",
      "source": [
        "conc_strings = \",\".join(list_Back)"
      ],
      "metadata": {
        "id": "NLUt_IxQutzL"
      },
      "execution_count": 5,
      "outputs": []
    },
    {
      "cell_type": "code",
      "source": [
        "conc_strings"
      ],
      "metadata": {
        "colab": {
          "base_uri": "https://localhost:8080/",
          "height": 53
        },
        "id": "3PrpQf2C7eso",
        "outputId": "01485953-6c94-4a60-acd4-b78d6e074f03"
      },
      "execution_count": 6,
      "outputs": [
        {
          "output_type": "execute_result",
          "data": {
            "application/vnd.google.colaboratory.intrinsic+json": {
              "type": "string"
            },
            "text/plain": [
              "'BigTable, MariaDB,MariaDB, MySQL, HBase, Cassandra,Vitess, BigTable, MariaDB,PostgreSQL, HBase, Cassandra, MongoDB,MySQL, Redis,DynamoDB, RDS/Aurora, Redshift,MariaDB,MySQL,MySql,Microsoft SQL Server, Cosmos DB,Oracle DB,Microsoft SQL Server,Venice,MySQL, Redis,MariaDB'"
            ]
          },
          "metadata": {},
          "execution_count": 6
        }
      ]
    },
    {
      "cell_type": "code",
      "source": [
        "list_B = conc_strings.split(\",\")"
      ],
      "metadata": {
        "id": "v_C90r0n7kem"
      },
      "execution_count": 7,
      "outputs": []
    },
    {
      "cell_type": "code",
      "source": [
        "list_B"
      ],
      "metadata": {
        "colab": {
          "base_uri": "https://localhost:8080/"
        },
        "id": "Ihawem3e9Api",
        "outputId": "76115f67-e910-430d-ad21-61471286ee70"
      },
      "execution_count": 8,
      "outputs": [
        {
          "output_type": "execute_result",
          "data": {
            "text/plain": [
              "['BigTable',\n",
              " ' MariaDB',\n",
              " 'MariaDB',\n",
              " ' MySQL',\n",
              " ' HBase',\n",
              " ' Cassandra',\n",
              " 'Vitess',\n",
              " ' BigTable',\n",
              " ' MariaDB',\n",
              " 'PostgreSQL',\n",
              " ' HBase',\n",
              " ' Cassandra',\n",
              " ' MongoDB',\n",
              " 'MySQL',\n",
              " ' Redis',\n",
              " 'DynamoDB',\n",
              " ' RDS/Aurora',\n",
              " ' Redshift',\n",
              " 'MariaDB',\n",
              " 'MySQL',\n",
              " 'MySql',\n",
              " 'Microsoft SQL Server',\n",
              " ' Cosmos DB',\n",
              " 'Oracle DB',\n",
              " 'Microsoft SQL Server',\n",
              " 'Venice',\n",
              " 'MySQL',\n",
              " ' Redis',\n",
              " 'MariaDB']"
            ]
          },
          "metadata": {},
          "execution_count": 8
        }
      ]
    },
    {
      "cell_type": "code",
      "source": [
        "from collections import Counter"
      ],
      "metadata": {
        "id": "bH9GMtP-91EU"
      },
      "execution_count": 9,
      "outputs": []
    },
    {
      "cell_type": "code",
      "source": [
        "Counter(list_B)"
      ],
      "metadata": {
        "colab": {
          "base_uri": "https://localhost:8080/"
        },
        "id": "lkbqDb0QCdLC",
        "outputId": "bdc2f4e3-04e4-46f6-a2f7-b1996f93fbb0"
      },
      "execution_count": 10,
      "outputs": [
        {
          "output_type": "execute_result",
          "data": {
            "text/plain": [
              "Counter({' BigTable': 1,\n",
              "         ' Cassandra': 2,\n",
              "         ' Cosmos DB': 1,\n",
              "         ' HBase': 2,\n",
              "         ' MariaDB': 2,\n",
              "         ' MongoDB': 1,\n",
              "         ' MySQL': 1,\n",
              "         ' RDS/Aurora': 1,\n",
              "         ' Redis': 2,\n",
              "         ' Redshift': 1,\n",
              "         'BigTable': 1,\n",
              "         'DynamoDB': 1,\n",
              "         'MariaDB': 3,\n",
              "         'Microsoft SQL Server': 2,\n",
              "         'MySQL': 3,\n",
              "         'MySql': 1,\n",
              "         'Oracle DB': 1,\n",
              "         'PostgreSQL': 1,\n",
              "         'Venice': 1,\n",
              "         'Vitess': 1})"
            ]
          },
          "metadata": {},
          "execution_count": 10
        }
      ]
    },
    {
      "cell_type": "code",
      "source": [
        "#Popular DataBase by usage in TOP MNCS\n",
        "MariaDB: 5\n",
        "MySQL: 5"
      ],
      "metadata": {
        "colab": {
          "base_uri": "https://localhost:8080/",
          "height": 130
        },
        "id": "cRzxNyQzCfSU",
        "outputId": "e534fbb6-fb16-4417-e3c0-895dcc6315f2"
      },
      "execution_count": 12,
      "outputs": [
        {
          "output_type": "error",
          "ename": "SyntaxError",
          "evalue": "ignored",
          "traceback": [
            "\u001b[0;36m  File \u001b[0;32m\"<ipython-input-12-37d7c8b2042a>\"\u001b[0;36m, line \u001b[0;32m5\u001b[0m\n\u001b[0;31m    c++ : 6\u001b[0m\n\u001b[0m        ^\u001b[0m\n\u001b[0;31mSyntaxError\u001b[0m\u001b[0;31m:\u001b[0m invalid syntax\n"
          ]
        }
      ]
    },
    {
      "cell_type": "code",
      "source": [
        ""
      ],
      "metadata": {
        "id": "OyBKhe25FkpB"
      },
      "execution_count": null,
      "outputs": []
    }
  ]
}